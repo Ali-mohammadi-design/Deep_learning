{
  "nbformat": 4,
  "nbformat_minor": 0,
  "metadata": {
    "colab": {
      "provenance": []
    },
    "kernelspec": {
      "name": "python3",
      "display_name": "Python 3"
    },
    "language_info": {
      "name": "python"
    }
  },
  "cells": [
    {
      "cell_type": "code",
      "execution_count": 2,
      "metadata": {
        "colab": {
          "base_uri": "https://localhost:8080/"
        },
        "id": "6WgGghDOY75f",
        "outputId": "3786fafd-91ef-474c-d4c4-50c565f0013a"
      },
      "outputs": [
        {
          "output_type": "stream",
          "name": "stdout",
          "text": [
            "hello\n"
          ]
        }
      ],
      "source": [
        "print(\"hello\")"
      ]
    },
    {
      "cell_type": "markdown",
      "source": [
        "In this progamming sesiotin I want to be familiar with the concept of tensors. Tesnsors are sum of arrays. 0D tensor is just a number like [8]. one D Tensor is an array including sume numbers such as [0,1,1,3]. Two D tensor is sum of two one D tensors like: [[0,1,1,3], [0,1,1,3]].\n",
        "By tf.constant() we can make the tesors"
      ],
      "metadata": {
        "id": "pP9HtCURbpsI"
      }
    },
    {
      "cell_type": "code",
      "source": [
        "import tensorflow as tf\n"
      ],
      "metadata": {
        "id": "fZHSlp-dZTcx"
      },
      "execution_count": 3,
      "outputs": []
    },
    {
      "cell_type": "code",
      "source": [
        "tensor_zero_d= tf.constant(4)\n",
        "print(tensor_zero_d)"
      ],
      "metadata": {
        "colab": {
          "base_uri": "https://localhost:8080/"
        },
        "id": "d11T6la6ZbzX",
        "outputId": "2b25e7ff-ea92-49cb-c6f4-c3bacf03f682"
      },
      "execution_count": 4,
      "outputs": [
        {
          "output_type": "stream",
          "name": "stdout",
          "text": [
            "tf.Tensor(4, shape=(), dtype=int32)\n"
          ]
        }
      ]
    },
    {
      "cell_type": "code",
      "source": [
        "tensor_one_d= tf.constant([0,2,-3])\n",
        "print(tensor_one_d)"
      ],
      "metadata": {
        "colab": {
          "base_uri": "https://localhost:8080/"
        },
        "id": "moy3YJP4Zw8h",
        "outputId": "2cf3b802-e247-4179-a8ea-0c6fd6ebe8c6"
      },
      "execution_count": 6,
      "outputs": [
        {
          "output_type": "stream",
          "name": "stdout",
          "text": [
            "tf.Tensor([ 0  2 -3], shape=(3,), dtype=int32)\n"
          ]
        }
      ]
    },
    {
      "cell_type": "code",
      "source": [
        "tensor_two_d= tf.constant([[0,2,-3],[5,4,-3],[6,2,90.2]])\n",
        "print(tensor_two_d)"
      ],
      "metadata": {
        "colab": {
          "base_uri": "https://localhost:8080/"
        },
        "id": "veg5-YF6aQID",
        "outputId": "b8208c87-ed50-4a40-ff3b-55e2b9a47f29"
      },
      "execution_count": 13,
      "outputs": [
        {
          "output_type": "stream",
          "name": "stdout",
          "text": [
            "tf.Tensor(\n",
            "[[ 0.   2.  -3. ]\n",
            " [ 5.   4.  -3. ]\n",
            " [ 6.   2.  90.2]], shape=(3, 3), dtype=float32)\n"
          ]
        }
      ]
    },
    {
      "cell_type": "code",
      "source": [
        "tensor_three_d= tf.constant([[[0,2,-3],[5,4,-3]],[[0,2,-3],[5,4,-3]],[[0,2,-3],[5,4,-3]]])\n",
        "print(tensor_three_d)"
      ],
      "metadata": {
        "colab": {
          "base_uri": "https://localhost:8080/"
        },
        "id": "VCDCyaffbcIR",
        "outputId": "10ced587-d39a-4a06-a2ac-5667c5b45591"
      },
      "execution_count": 15,
      "outputs": [
        {
          "output_type": "stream",
          "name": "stdout",
          "text": [
            "tf.Tensor(\n",
            "[[[ 0  2 -3]\n",
            "  [ 5  4 -3]]\n",
            "\n",
            " [[ 0  2 -3]\n",
            "  [ 5  4 -3]]\n",
            "\n",
            " [[ 0  2 -3]\n",
            "  [ 5  4 -3]]], shape=(3, 2, 3), dtype=int32)\n"
          ]
        }
      ]
    },
    {
      "cell_type": "code",
      "source": [
        "tensor_four_d= tf.constant([[[[0,2,-3],[5,4,-3]],[[0,2,-3],[5,4,-3]],[[0,2,-3],[5,4,-3]],[[0,2,-3],[5,4,-3]],[[0,2,-3],[5,4,-3]],[[0,2,-3],[5,4,-3]]]])\n",
        "print(tensor_four_d)"
      ],
      "metadata": {
        "colab": {
          "base_uri": "https://localhost:8080/"
        },
        "id": "dIN37qtfc9Xz",
        "outputId": "a5e1f7a5-fc1c-48c5-ab62-6881b669cdcc"
      },
      "execution_count": 18,
      "outputs": [
        {
          "output_type": "stream",
          "name": "stdout",
          "text": [
            "tf.Tensor(\n",
            "[[[[ 0  2 -3]\n",
            "   [ 5  4 -3]]\n",
            "\n",
            "  [[ 0  2 -3]\n",
            "   [ 5  4 -3]]\n",
            "\n",
            "  [[ 0  2 -3]\n",
            "   [ 5  4 -3]]\n",
            "\n",
            "  [[ 0  2 -3]\n",
            "   [ 5  4 -3]]\n",
            "\n",
            "  [[ 0  2 -3]\n",
            "   [ 5  4 -3]]\n",
            "\n",
            "  [[ 0  2 -3]\n",
            "   [ 5  4 -3]]]], shape=(1, 6, 2, 3), dtype=int32)\n"
          ]
        }
      ]
    },
    {
      "cell_type": "code",
      "source": [
        "print(tensor_four_d.ndim)"
      ],
      "metadata": {
        "colab": {
          "base_uri": "https://localhost:8080/"
        },
        "id": "md4c5kYSdnZl",
        "outputId": "8ee5abf2-5282-4405-eb43-13b0ef810c5e"
      },
      "execution_count": 19,
      "outputs": [
        {
          "output_type": "stream",
          "name": "stdout",
          "text": [
            "4\n"
          ]
        }
      ]
    },
    {
      "cell_type": "code",
      "source": [
        "m=tf.eye(\n",
        "    num_rows=2,\n",
        "    num_columns=2,\n",
        "    batch_shape=[2],\n",
        "    dtype=tf.dtypes.float64,\n",
        "    name=2\n",
        ")\n",
        "print(m)"
      ],
      "metadata": {
        "colab": {
          "base_uri": "https://localhost:8080/"
        },
        "id": "0pJLV4j6hSoI",
        "outputId": "7e5711e8-6ef2-4fcc-8e8e-8a8f0daf4c2f"
      },
      "execution_count": 31,
      "outputs": [
        {
          "output_type": "stream",
          "name": "stdout",
          "text": [
            "tf.Tensor(\n",
            "[[[1. 0.]\n",
            "  [0. 1.]]\n",
            "\n",
            " [[1. 0.]\n",
            "  [0. 1.]]], shape=(2, 2, 2), dtype=float64)\n"
          ]
        }
      ]
    },
    {
      "cell_type": "code",
      "source": [
        "k=tf.random.normal(\n",
        "    shape=[3,1,1],\n",
        "    mean=0.0,\n",
        "    stddev=1.0,\n",
        "    dtype=tf.dtypes.float32,\n",
        "    seed=None,\n",
        "    name=None\n",
        ")\n",
        "print(k)"
      ],
      "metadata": {
        "colab": {
          "base_uri": "https://localhost:8080/"
        },
        "id": "g9KvZEPLiRGq",
        "outputId": "cf62c231-4c8b-4f68-d85c-faf28b3244a1"
      },
      "execution_count": 39,
      "outputs": [
        {
          "output_type": "stream",
          "name": "stdout",
          "text": [
            "tf.Tensor(\n",
            "[[[-0.10019948]]\n",
            "\n",
            " [[-0.02541872]]\n",
            "\n",
            " [[-0.64514923]]], shape=(3, 1, 1), dtype=float32)\n"
          ]
        }
      ]
    }
  ]
}