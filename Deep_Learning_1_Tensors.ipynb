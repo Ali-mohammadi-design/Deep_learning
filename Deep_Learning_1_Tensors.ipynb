{
  "nbformat": 4,
  "nbformat_minor": 0,
  "metadata": {
    "colab": {
      "provenance": [],
      "authorship_tag": "ABX9TyO3Rv6UA/a0K9l1KPIU216y",
      "include_colab_link": true
    },
    "kernelspec": {
      "name": "python3",
      "display_name": "Python 3"
    },
    "language_info": {
      "name": "python"
    }
  },
  "cells": [
    {
      "cell_type": "markdown",
      "metadata": {
        "id": "view-in-github",
        "colab_type": "text"
      },
      "source": [
        "<a href=\"https://colab.research.google.com/github/Ali-mohammadi-design/Deep_learning/blob/main/Deep_Learning_1_Tensors.ipynb\" target=\"_parent\"><img src=\"https://colab.research.google.com/assets/colab-badge.svg\" alt=\"Open In Colab\"/></a>"
      ]
    },
    {
      "cell_type": "code",
      "execution_count": 1,
      "metadata": {
        "colab": {
          "base_uri": "https://localhost:8080/"
        },
        "id": "6WgGghDOY75f",
        "outputId": "27a76b89-28f2-4937-ae6c-9fdd2f63b422"
      },
      "outputs": [
        {
          "output_type": "stream",
          "name": "stdout",
          "text": [
            "hello\n"
          ]
        }
      ],
      "source": [
        "print(\"hello\")"
      ]
    },
    {
      "cell_type": "markdown",
      "source": [
        "In this progamming sesiotin I want to be familiar with the concept of tensors. Tesnsors are sum of arrays. 0D tensor is just a number like [8]. one D Tensor is an array including sume numbers such as [0,1,1,3]. Two D tensor is sum of two one D tensors like: [[0,1,1,3], [0,1,1,3]].\n",
        "By tf.constant() we can make the tesors"
      ],
      "metadata": {
        "id": "pP9HtCURbpsI"
      }
    },
    {
      "cell_type": "code",
      "source": [
        "import tensorflow as tf\n"
      ],
      "metadata": {
        "id": "fZHSlp-dZTcx"
      },
      "execution_count": 2,
      "outputs": []
    },
    {
      "cell_type": "code",
      "source": [
        "tensor_zero_d= tf.constant(4)\n",
        "print(tensor_zero_d)"
      ],
      "metadata": {
        "colab": {
          "base_uri": "https://localhost:8080/"
        },
        "id": "d11T6la6ZbzX",
        "outputId": "c1c23d70-8bfd-48b3-9825-4e31e7c80445"
      },
      "execution_count": 3,
      "outputs": [
        {
          "output_type": "stream",
          "name": "stdout",
          "text": [
            "tf.Tensor(4, shape=(), dtype=int32)\n"
          ]
        }
      ]
    },
    {
      "cell_type": "code",
      "source": [
        "tensor_one_d= tf.constant([0,2,-3])\n",
        "print(tensor_one_d)"
      ],
      "metadata": {
        "colab": {
          "base_uri": "https://localhost:8080/"
        },
        "id": "moy3YJP4Zw8h",
        "outputId": "76264987-6a60-4673-d779-84ee6a4c5be0"
      },
      "execution_count": 4,
      "outputs": [
        {
          "output_type": "stream",
          "name": "stdout",
          "text": [
            "tf.Tensor([ 0  2 -3], shape=(3,), dtype=int32)\n"
          ]
        }
      ]
    },
    {
      "cell_type": "code",
      "source": [
        "tensor_two_d= tf.constant([[0,2,-3],[5,4,-3],[6,2,90.2]])\n",
        "print(tensor_two_d)"
      ],
      "metadata": {
        "colab": {
          "base_uri": "https://localhost:8080/"
        },
        "id": "veg5-YF6aQID",
        "outputId": "c8360fed-bc01-4265-aa53-3b2b61e948df"
      },
      "execution_count": 5,
      "outputs": [
        {
          "output_type": "stream",
          "name": "stdout",
          "text": [
            "tf.Tensor(\n",
            "[[ 0.   2.  -3. ]\n",
            " [ 5.   4.  -3. ]\n",
            " [ 6.   2.  90.2]], shape=(3, 3), dtype=float32)\n"
          ]
        }
      ]
    },
    {
      "cell_type": "code",
      "source": [
        "tensor_three_d= tf.constant([[[0,2,-3],[5,4,-3]],[[0,2,-3],[5,4,-3]],[[0,2,-3],[5,4,-3]]])\n",
        "print(tensor_three_d)"
      ],
      "metadata": {
        "colab": {
          "base_uri": "https://localhost:8080/"
        },
        "id": "VCDCyaffbcIR",
        "outputId": "2299a295-ae35-4176-b95d-001090a0acc8"
      },
      "execution_count": 6,
      "outputs": [
        {
          "output_type": "stream",
          "name": "stdout",
          "text": [
            "tf.Tensor(\n",
            "[[[ 0  2 -3]\n",
            "  [ 5  4 -3]]\n",
            "\n",
            " [[ 0  2 -3]\n",
            "  [ 5  4 -3]]\n",
            "\n",
            " [[ 0  2 -3]\n",
            "  [ 5  4 -3]]], shape=(3, 2, 3), dtype=int32)\n"
          ]
        }
      ]
    },
    {
      "cell_type": "code",
      "source": [
        "tensor_four_d= tf.constant([[[[0,2,-3],[5,4,-3]],[[0,2,-3],[5,4,-3]],[[0,2,-3],[5,4,-3]],[[0,2,-3],[5,4,-3]],[[0,2,-3],[5,4,-3]],[[0,2,-3],[5,4,-3]]]])\n",
        "print(tensor_four_d)"
      ],
      "metadata": {
        "colab": {
          "base_uri": "https://localhost:8080/"
        },
        "id": "dIN37qtfc9Xz",
        "outputId": "a00f23dc-0f74-4cd2-c911-56f0e0a68115"
      },
      "execution_count": 7,
      "outputs": [
        {
          "output_type": "stream",
          "name": "stdout",
          "text": [
            "tf.Tensor(\n",
            "[[[[ 0  2 -3]\n",
            "   [ 5  4 -3]]\n",
            "\n",
            "  [[ 0  2 -3]\n",
            "   [ 5  4 -3]]\n",
            "\n",
            "  [[ 0  2 -3]\n",
            "   [ 5  4 -3]]\n",
            "\n",
            "  [[ 0  2 -3]\n",
            "   [ 5  4 -3]]\n",
            "\n",
            "  [[ 0  2 -3]\n",
            "   [ 5  4 -3]]\n",
            "\n",
            "  [[ 0  2 -3]\n",
            "   [ 5  4 -3]]]], shape=(1, 6, 2, 3), dtype=int32)\n"
          ]
        }
      ]
    },
    {
      "cell_type": "code",
      "source": [
        "print(tensor_four_d.ndim)"
      ],
      "metadata": {
        "colab": {
          "base_uri": "https://localhost:8080/"
        },
        "id": "md4c5kYSdnZl",
        "outputId": "cae650f5-718b-4eae-c0a3-4cf5b355eebe"
      },
      "execution_count": 8,
      "outputs": [
        {
          "output_type": "stream",
          "name": "stdout",
          "text": [
            "4\n"
          ]
        }
      ]
    },
    {
      "cell_type": "code",
      "source": [
        "m=tf.eye(\n",
        "    num_rows=2,\n",
        "    num_columns=2,\n",
        "    batch_shape=[2],\n",
        "    dtype=tf.dtypes.float64,\n",
        "    name=2\n",
        ")\n",
        "print(m)"
      ],
      "metadata": {
        "colab": {
          "base_uri": "https://localhost:8080/"
        },
        "id": "0pJLV4j6hSoI",
        "outputId": "cf8cd14d-7847-4a15-b001-d8f54b934954"
      },
      "execution_count": 9,
      "outputs": [
        {
          "output_type": "stream",
          "name": "stdout",
          "text": [
            "tf.Tensor(\n",
            "[[[1. 0.]\n",
            "  [0. 1.]]\n",
            "\n",
            " [[1. 0.]\n",
            "  [0. 1.]]], shape=(2, 2, 2), dtype=float64)\n"
          ]
        }
      ]
    },
    {
      "cell_type": "code",
      "source": [
        "k=tf.random.normal(\n",
        "    shape=[3,1,1],\n",
        "    mean=0.0,\n",
        "    stddev=1.0,\n",
        "    dtype=tf.dtypes.float32,\n",
        "    seed=None,\n",
        "    name=None\n",
        ")\n",
        "print(k)"
      ],
      "metadata": {
        "colab": {
          "base_uri": "https://localhost:8080/"
        },
        "id": "g9KvZEPLiRGq",
        "outputId": "b9a2be04-815d-4a48-91de-7801796cb61d"
      },
      "execution_count": 10,
      "outputs": [
        {
          "output_type": "stream",
          "name": "stdout",
          "text": [
            "tf.Tensor(\n",
            "[[[-0.12572639]]\n",
            "\n",
            " [[-0.19428489]]\n",
            "\n",
            " [[-0.0879982 ]]], shape=(3, 1, 1), dtype=float32)\n"
          ]
        }
      ]
    },
    {
      "cell_type": "code",
      "source": [
        "a = tf.constant([1, 2, 3, 4, 5, 6], shape=[2, 3])\n",
        "a  # 2-D tensor\n",
        "b = tf.constant([7, 8, 9, 10, 11, 12], shape=[3, 2])\n",
        "b  # 2-D tensor\n",
        "c= tf.constant([7, 8, 9, 10], shape=[2, 2])\n",
        "c  # 2-D tensor"
      ],
      "metadata": {
        "colab": {
          "base_uri": "https://localhost:8080/"
        },
        "id": "_6MZ8Iyr8zX1",
        "outputId": "2ec1bc13-38f7-442d-df0f-6888690241c8"
      },
      "execution_count": 24,
      "outputs": [
        {
          "output_type": "execute_result",
          "data": {
            "text/plain": [
              "<tf.Tensor: shape=(2, 2), dtype=int32, numpy=\n",
              "array([[ 7,  8],\n",
              "       [ 9, 10]], dtype=int32)>"
            ]
          },
          "metadata": {},
          "execution_count": 24
        }
      ]
    },
    {
      "cell_type": "code",
      "source": [
        "d = tf.matmul(a,b)\n",
        "e = tf.matmul(d,c)\n",
        "e"
      ],
      "metadata": {
        "colab": {
          "base_uri": "https://localhost:8080/"
        },
        "id": "XGdRrmjT_g2-",
        "outputId": "1e38e0d4-afed-4ec7-89a9-f82937ec57ae"
      },
      "execution_count": 31,
      "outputs": [
        {
          "output_type": "execute_result",
          "data": {
            "text/plain": [
              "<tf.Tensor: shape=(2, 2), dtype=int32, numpy=\n",
              "array([[ 982, 1104],\n",
              "       [2359, 2652]], dtype=int32)>"
            ]
          },
          "metadata": {},
          "execution_count": 31
        }
      ]
    }
  ]
}